{
  "nbformat": 4,
  "nbformat_minor": 0,
  "metadata": {
    "colab": {
      "name": "parcer otzovik.ipynb",
      "provenance": []
    },
    "kernelspec": {
      "name": "python3",
      "display_name": "Python 3"
    },
    "language_info": {
      "name": "python"
    }
  },
  "cells": [
    {
      "cell_type": "code",
      "source": [
        "import pandas as pd\n",
        "import time"
      ],
      "metadata": {
        "id": "07RFKJ-LQncD"
      },
      "execution_count": 5,
      "outputs": []
    },
    {
      "cell_type": "code",
      "execution_count": 3,
      "metadata": {
        "id": "XgHOLjKkMqeV",
        "colab": {
          "base_uri": "https://localhost:8080/",
          "height": 235
        },
        "outputId": "6b51eb88-937c-4b98-d15d-84bd6ca4ee15"
      },
      "outputs": [
        {
          "output_type": "error",
          "ename": "NameError",
          "evalue": "ignored",
          "traceback": [
            "\u001b[0;31m---------------------------------------------------------------------------\u001b[0m",
            "\u001b[0;31mNameError\u001b[0m                                 Traceback (most recent call last)",
            "\u001b[0;32m<ipython-input-3-f9143d8865b5>\u001b[0m in \u001b[0;36m<module>\u001b[0;34m()\u001b[0m\n\u001b[0;32m----> 1\u001b[0;31m \u001b[0mdriver\u001b[0m\u001b[0;34m.\u001b[0m\u001b[0mget\u001b[0m\u001b[0;34m(\u001b[0m\u001b[0;34m\"https://otzovik.com/?search_text=%D0%B3%D0%B0%D0%B7%D0%BF%D1%80%D0%BE%D0%BC%D0%B1%D0%B0%D0%BD%D0%BA&x=0&y=0\"\u001b[0m\u001b[0;34m)\u001b[0m\u001b[0;34m\u001b[0m\u001b[0;34m\u001b[0m\u001b[0m\n\u001b[0m\u001b[1;32m      2\u001b[0m \u001b[0melems\u001b[0m \u001b[0;34m=\u001b[0m \u001b[0mdriver\u001b[0m\u001b[0;34m.\u001b[0m\u001b[0mfind_elements\u001b[0m\u001b[0;34m(\u001b[0m\u001b[0mBy\u001b[0m\u001b[0;34m.\u001b[0m\u001b[0mCLASS_NAME\u001b[0m\u001b[0;34m,\u001b[0m \u001b[0mvalue\u001b[0m \u001b[0;34m=\u001b[0m \u001b[0;34m'product-name'\u001b[0m\u001b[0;34m)\u001b[0m\u001b[0;34m\u001b[0m\u001b[0;34m\u001b[0m\u001b[0m\n\u001b[1;32m      3\u001b[0m \u001b[0mhrefelements\u001b[0m \u001b[0;34m=\u001b[0m \u001b[0;34m[\u001b[0m\u001b[0;34m]\u001b[0m\u001b[0;34m\u001b[0m\u001b[0;34m\u001b[0m\u001b[0m\n\u001b[1;32m      4\u001b[0m \u001b[0;32mfor\u001b[0m \u001b[0mn\u001b[0m \u001b[0;32min\u001b[0m \u001b[0melems\u001b[0m\u001b[0;34m:\u001b[0m\u001b[0;34m\u001b[0m\u001b[0;34m\u001b[0m\u001b[0m\n\u001b[1;32m      5\u001b[0m     \u001b[0mhrefelements\u001b[0m\u001b[0;34m.\u001b[0m\u001b[0mappend\u001b[0m\u001b[0;34m(\u001b[0m\u001b[0mn\u001b[0m\u001b[0;34m.\u001b[0m\u001b[0mget_attribute\u001b[0m\u001b[0;34m(\u001b[0m\u001b[0;34m'href'\u001b[0m\u001b[0;34m)\u001b[0m\u001b[0;34m)\u001b[0m\u001b[0;34m\u001b[0m\u001b[0;34m\u001b[0m\u001b[0m\n",
            "\u001b[0;31mNameError\u001b[0m: name 'driver' is not defined"
          ]
        }
      ],
      "source": [
        "driver.get(\"https://otzovik.com/?search_text=%D0%B3%D0%B0%D0%B7%D0%BF%D1%80%D0%BE%D0%BC%D0%B1%D0%B0%D0%BD%D0%BA&x=0&y=0\")\n",
        "elems = driver.find_elements(By.CLASS_NAME, value = 'product-name')\n",
        "hrefelements = []\n",
        "for n in elems:\n",
        "    hrefelements.append(n.get_attribute('href'))\n",
        "#elems2=driver.find_elements(By.CLASS_NAME, value = 'review-title')\n",
        "def get_review(driver):\n",
        "        name = driver.find_element(By.TAG_NAME, 'h1') #заголовок\n",
        "        date = driver.find_elements(By.CLASS_NAME, value='tooltip-right') #дата\n",
        "        place = driver.find_elements(By.CLASS_NAME, value='user-location') #откуда\n",
        "        person = driver.find_elements(By.CLASS_NAME, value='user-login') #кто\n",
        "        time = driver.find_elements(By.CLASS_NAME, value='owning-time') #время использования\n",
        "        reiting = driver.find_elements(By.CLASS_NAME, value='tooltip-right') #рейтинг\n",
        "        otzyvmax = driver.find_elements(By.CLASS_NAME, value='review-plus') #плюсы\n",
        "        otzyvmin = driver.find_elements(By.CLASS_NAME, value='review-minus') #минусы\n",
        "        otzyvosn = driver.find_elements(By.CLASS_NAME, value='review-body') #общая часть\n",
        "        character = driver.find_elements(By.CLASS_NAME, value='rating-item') #характеристики\n",
        "\n",
        "        d = dict()\n",
        "        d['Заголовок'] = name.text\n",
        "        d['Дата'] = date[1].text\n",
        "        d['Место'] = place[0].text\n",
        "        d['Имя'] = person[0].text\n",
        "        if len(time) == 0: \n",
        "            d['Время использования'] = -1\n",
        "        else:     \n",
        "            d['Время использования'] = time[0].text\n",
        "        d['Рейтинг']=reiting[2].get_attribute('title')\n",
        "        d['Плюсы']=otzyvmax[0].text\n",
        "        d['Минусы']=otzyvmin[0].text\n",
        "        d['Общая часть']=otzyvosn[0].text\n",
        "        d['Надежность']=character[5].get_attribute('title')\n",
        "        d['Удобство']=character[6].get_attribute('title')\n",
        "        d['Обслуживание']=character[7].get_attribute('title')\n",
        "        try:\n",
        "            d['Скорость работы']=character[8].get_attribute('title')\n",
        "        except IndexError as e:\n",
        "            pass    \n",
        "        print(d)\n",
        "        return d\n",
        "\n",
        "mas = [] \n",
        "\n",
        "for i in range (3, 43):\n",
        "    #print(elems[i].get_attribute('href'))\n",
        "    #elems=driver.find_elements(By.CLASS_NAME, value = 'product-name')\n",
        "    try:\n",
        "        driver.get(elems[i].get_attribute('href'))\n",
        "    except:\n",
        "        pass\n",
        "    try:\n",
        "        last_page = int(driver.find_elements(By.CLASS_NAME, value = \"last\")[0].get_attribute(\"href\").split(\"/\")[-2])\n",
        "        print(last_page)\n",
        "    except IndexError as e:\n",
        "        pass\n",
        "\n",
        "    elems2 = driver.find_elements(By.CLASS_NAME, value = 'review-title')\n",
        "    \n",
        "    hrefs = []\n",
        "    \n",
        "    for k in elems2:\n",
        "        hrefs.append(k.get_attribute('href')) \n",
        "        \n",
        "    for k in hrefs:\n",
        "        try:\n",
        "            driver.get(k)\n",
        "        except Exception as e:\n",
        "                pass    \n",
        "        try:\n",
        "            res = get_review(driver)\n",
        "            mas.append(res)\n",
        "        except IndexError as e:\n",
        "            pass\n",
        "    for page in range(2, last_page + 1):\n",
        "        print(\"NEXT PAGE\")\n",
        "        hrefs = []\n",
        "        try:\n",
        "            driver.get(f\"https://otzovik.com/reviews/bank_gazprombank_russia/{page}/?&capt4a=3021656851679353\")\n",
        "        except Exception as e:\n",
        "                pass    \n",
        "        elems2 = driver.find_elements(By.CLASS_NAME, value = 'review-title')\n",
        "        for k in elems2:\n",
        "            hrefs.append(k.get_attribute('href')) \n",
        "            \n",
        "        for k in hrefs:\n",
        "            try:\n",
        "                driver.get(k)\n",
        "            except Exception as e:\n",
        "                pass\n",
        "            try:\n",
        "                res = get_review(driver)\n",
        "                mas.append(res)\n",
        "            except: \n",
        "                time.sleep(10)\n",
        "                continue\n",
        "            df=pd.DataFrame(mas)\n",
        "            df.to_csv('otzovik.csv', index=False)  \n",
        "#             csv = pd.read_csv('otzovik.csv')\n",
        "#             csv\n",
        "\n",
        "df=pd.DataFrame(mas)\n",
        "df.to_csv('otzovik.csv', index=False)  \n",
        "csv = pd.read_csv('otzovik.csv')\n",
        "csv"
      ]
    }
  ]
}